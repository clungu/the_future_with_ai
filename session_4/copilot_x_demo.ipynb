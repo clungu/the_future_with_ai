{
 "cells": [
  {
   "cell_type": "markdown",
   "source": [
    "This is only a test to show how one could use gs"
   ],
   "metadata": {
    "collapsed": false
   },
   "id": "e09cd8e16b6701f0"
  },
  {
   "cell_type": "code",
   "execution_count": null,
   "outputs": [],
   "source": [
    "import numpy as np\n",
    "import pandas as pd\n",
    "import matplotlib.pyplot as plt\n",
    "import seaborn as sns\n",
    "from scipy import stats\n",
    "import sklearn"
   ],
   "metadata": {
    "collapsed": false
   },
   "id": "f44e1e86044ba705"
  }
 ],
 "metadata": {
  "kernelspec": {
   "display_name": "Python 3",
   "language": "python",
   "name": "python3"
  },
  "language_info": {
   "codemirror_mode": {
    "name": "ipython",
    "version": 2
   },
   "file_extension": ".py",
   "mimetype": "text/x-python",
   "name": "python",
   "nbconvert_exporter": "python",
   "pygments_lexer": "ipython2",
   "version": "2.7.6"
  }
 },
 "nbformat": 4,
 "nbformat_minor": 5
}
